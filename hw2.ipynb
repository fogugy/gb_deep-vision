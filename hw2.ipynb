{
 "cells": [
  {
   "cell_type": "code",
   "execution_count": 1,
   "metadata": {},
   "outputs": [],
   "source": [
    "import matplotlib.pyplot as plt\n",
    "import numpy as np\n",
    "import tensorflow as tf\n",
    "import tensorflow.keras as kr\n",
    "import imageio\n",
    "\n",
    "%matplotlib inline"
   ]
  },
  {
   "cell_type": "code",
   "execution_count": 2,
   "metadata": {},
   "outputs": [],
   "source": [
    "(train_x, train_y), (test_x, test_y) = tf.keras.datasets.cifar10.load_data()"
   ]
  },
  {
   "cell_type": "code",
   "execution_count": 3,
   "metadata": {},
   "outputs": [],
   "source": [
    "train_x = train_x.reshape(-1, 32, 32, 3).astype(np.float32) / 255.0\n",
    "test_x = test_x.reshape(-1, 32, 32, 3).astype(np.float32) / 255.0"
   ]
  },
  {
   "cell_type": "code",
   "execution_count": 4,
   "metadata": {},
   "outputs": [],
   "source": [
    "model = kr.models.Sequential([\n",
    "    kr.layers.Conv2D(32, (5,5), padding='same', activation='relu'),\n",
    "    kr.layers.MaxPool2D((2,2), (2,2)),\n",
    "    kr.layers.Conv2D(64, (5,5), padding='same', activation='relu'),\n",
    "    kr.layers.MaxPool2D((2,2), (2,2)),\n",
    "    kr.layers.Flatten(),\n",
    "    kr.layers.Dense(256, activation='relu'),\n",
    "    kr.layers.Dense(10, activation='softmax')\n",
    "])"
   ]
  },
  {
   "cell_type": "code",
   "execution_count": 5,
   "metadata": {},
   "outputs": [],
   "source": [
    "model.compile(optimizer='sgd',\n",
    "             loss='sparse_categorical_crossentropy',\n",
    "             metrics=['accuracy'])"
   ]
  },
  {
   "cell_type": "code",
   "execution_count": 6,
   "metadata": {},
   "outputs": [],
   "source": [
    "NUM_EPOCHS = 10"
   ]
  },
  {
   "cell_type": "code",
   "execution_count": 7,
   "metadata": {},
   "outputs": [
    {
     "name": "stdout",
     "output_type": "stream",
     "text": [
      "Train on 50000 samples\n",
      "Epoch 1/10\n",
      "50000/50000 [==============================] - 62s 1ms/sample - loss: 1.8471 - accuracy: 0.3357\n",
      "Epoch 2/10\n",
      "50000/50000 [==============================] - 59s 1ms/sample - loss: 1.4709 - accuracy: 0.4739\n",
      "Epoch 3/10\n",
      "50000/50000 [==============================] - 59s 1ms/sample - loss: 1.3200 - accuracy: 0.5323\n",
      "Epoch 4/10\n",
      "50000/50000 [==============================] - 62s 1ms/sample - loss: 1.2120 - accuracy: 0.5731\n",
      "Epoch 5/10\n",
      "50000/50000 [==============================] - 62s 1ms/sample - loss: 1.1169 - accuracy: 0.6086\n",
      "Epoch 6/10\n",
      "50000/50000 [==============================] - 67s 1ms/sample - loss: 1.0325 - accuracy: 0.6384\n",
      "Epoch 7/10\n",
      "50000/50000 [==============================] - 65s 1ms/sample - loss: 0.9598 - accuracy: 0.6660\n",
      "Epoch 8/10\n",
      "50000/50000 [==============================] - 63s 1ms/sample - loss: 0.8929 - accuracy: 0.6874\n",
      "Epoch 9/10\n",
      "50000/50000 [==============================] - 66s 1ms/sample - loss: 0.8297 - accuracy: 0.7096\n",
      "Epoch 10/10\n",
      "50000/50000 [==============================] - 63s 1ms/sample - loss: 0.7717 - accuracy: 0.7312\n",
      "Wall time: 10min 28s\n"
     ]
    },
    {
     "data": {
      "text/plain": [
       "<tensorflow.python.keras.callbacks.History at 0x1d4aff77408>"
      ]
     },
     "execution_count": 7,
     "metadata": {},
     "output_type": "execute_result"
    }
   ],
   "source": [
    "%%time\n",
    "\n",
    "model.fit(train_x, train_y, epochs=NUM_EPOCHS)"
   ]
  },
  {
   "cell_type": "code",
   "execution_count": null,
   "metadata": {},
   "outputs": [],
   "source": []
  }
 ],
 "metadata": {
  "kernelspec": {
   "display_name": "Python 3",
   "language": "python",
   "name": "python3"
  },
  "language_info": {
   "codemirror_mode": {
    "name": "ipython",
    "version": 3
   },
   "file_extension": ".py",
   "mimetype": "text/x-python",
   "name": "python",
   "nbconvert_exporter": "python",
   "pygments_lexer": "ipython3",
   "version": "3.7.5"
  }
 },
 "nbformat": 4,
 "nbformat_minor": 4
}
